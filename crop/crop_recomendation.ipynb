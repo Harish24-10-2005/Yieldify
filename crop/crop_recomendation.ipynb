{
 "cells": [
  {
   "cell_type": "code",
   "execution_count": 1,
   "id": "609b08af-3020-48d5-9f46-a0d08204bfae",
   "metadata": {},
   "outputs": [
    {
     "name": "stdin",
     "output_type": "stream",
     "text": [
      "Enter the N value of your Land:  32\n",
      "Enter the P value of your Land:  62\n",
      "Enter the K value of your Land:  33\n",
      "Enter the pH value of your Land:  32\n",
      "Enter the city Name : coimbatore\n"
     ]
    },
    {
     "name": "stdout",
     "output_type": "stream",
     "text": [
      "Predicted Crop Recommendation->1: mungbean\n",
      "Predicted Crop Recommendation->2: banana\n",
      "Predicted Crop Recommendation->3: mungbean\n"
     ]
    }
   ],
   "source": [
    "class crop_pred:   \n",
    "    def crop_pr(self):\n",
    "        import torch\n",
    "        import torch.nn as nn\n",
    "        import torch.optim as optim\n",
    "        import numpy as np\n",
    "        import pandas as pd\n",
    "        from sklearn.model_selection import train_test_split \n",
    "        from sklearn.tree import DecisionTreeRegressor\n",
    "        from sklearn.metrics import mean_squared_error, accuracy_score\n",
    "        import joblib\n",
    "        import requests,json\n",
    "        N = float(input(\"Enter the N value of your Land: \"))\n",
    "        P = float(input(\"Enter the P value of your Land: \"))\n",
    "        K = float(input(\"Enter the K value of your Land: \"))\n",
    "        pH = float(input(\"Enter the pH value of your Land: \"))\n",
    "        city = input(\"Enter the city Name :\")\n",
    "        numerical_representations = [0, 1, 2, 3, 4, 5, 6, 7, 8, 9, 10, 11, 12, 13, 14, 15, 16, 17, 18, 19, 20, 21]\n",
    "        class_labels = ['apple', 'banana', 'blackgram', 'chickpea', 'coconut', 'coffee', 'cotton', \n",
    "                        'grapes', 'jute', 'kidneybeans', 'lentil', 'maize', 'mango', 'mothbeans', \n",
    "                        'mungbean', 'muskmelon', 'orange', 'papaya', 'pigeonpeas', 'pomegranate', \n",
    "                        'rice', 'watermelon']\n",
    "        numerical_to_class = dict(zip(numerical_representations, class_labels))\n",
    "        loaded_model = joblib.load('decision_tree_model.joblib')\n",
    "        \n",
    "        apikey = \"68063b330aca634551e488732351a48b\"\n",
    "        base = \"https://api.openweathermap.org/data/2.5/weather?q=\"\n",
    "        complete = base + city + \"&appid=\"+apikey\n",
    "        response = requests.get(complete)\n",
    "        info= response.json()\n",
    "        def fahrenheit_to_celsius(fahrenheit):\n",
    "            celsius = fahrenheit - 273.15\n",
    "            return celsius\n",
    "            \n",
    "        temp=info[\"main\"][\"temp\"]\n",
    "        celsius_temperature = fahrenheit_to_celsius(temp)\n",
    "        h = info[\"main\"][\"humidity\"]\n",
    "        import random\n",
    "        rain = random.randint(50, 200)\n",
    "        \n",
    "        input_data = [N,P,K, celsius_temperature, h, pH,\train]\n",
    "        input_tensor = torch.tensor(input_data, dtype=torch.float32).unsqueeze(0)\n",
    "        train_predictions = loaded_model.predict(input_tensor.numpy())\n",
    "        a = [int(x) for x in train_predictions]\n",
    "        numerical_representation = a[0]\n",
    "        label_1 = numerical_to_class[numerical_representation]\n",
    "        print(\"Predicted Crop Recommendation->1:\",label_1)\n",
    "        \n",
    "        input_data_2 = [N + 20, P + 20, K + 20, celsius_temperature + 10, h + 20, pH + 3, rain + 60]\n",
    "        input_tensor_2 = torch.tensor(input_data_2, dtype=torch.float32).unsqueeze(0)\n",
    "        train_predictions_2 = loaded_model.predict(input_tensor_2.numpy())\n",
    "        numerical_representation_2 = int(train_predictions_2[0])\n",
    "        label_2 = numerical_to_class[numerical_representation_2]\n",
    "        \n",
    "        print(\"Predicted Crop Recommendation->2:\", label_2)\n",
    "        \n",
    "        \n",
    "        input_data_3 = [N - 5, P - 5, K - 5, celsius_temperature - 3, h - 5, pH - 1, rain - 10]\n",
    "        input_tensor_3 = torch.tensor(input_data_3, dtype=torch.float32).unsqueeze(0)\n",
    "        train_predictions_3 = loaded_model.predict(input_tensor_3.numpy())\n",
    "        numerical_representation_3 = int(train_predictions_3[0])\n",
    "        label_3 = numerical_to_class[numerical_representation_3]\n",
    "        \n",
    "        print(\"Predicted Crop Recommendation->3:\", label_3)\n",
    "\n",
    "c = crop_pred()\n",
    "c.crop_pr()"
   ]
  },
  {
   "cell_type": "code",
   "execution_count": null,
   "id": "fb551617-1762-498e-8b9e-db2cf3029691",
   "metadata": {},
   "outputs": [],
   "source": []
  }
 ],
 "metadata": {
  "kernelspec": {
   "display_name": "Python 3 (ipykernel)",
   "language": "python",
   "name": "python3"
  },
  "language_info": {
   "codemirror_mode": {
    "name": "ipython",
    "version": 3
   },
   "file_extension": ".py",
   "mimetype": "text/x-python",
   "name": "python",
   "nbconvert_exporter": "python",
   "pygments_lexer": "ipython3",
   "version": "3.12.3"
  }
 },
 "nbformat": 4,
 "nbformat_minor": 5
}
